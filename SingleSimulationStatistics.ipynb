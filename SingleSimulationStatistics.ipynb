{
 "cells": [
  {
   "cell_type": "code",
   "execution_count": 85,
   "metadata": {},
   "outputs": [],
   "source": [
    "import matplotlib.pyplot as plt\n",
    "import numpy as np\n",
    "from ipywidgets import interactive"
   ]
  },
  {
   "cell_type": "code",
   "execution_count": 86,
   "metadata": {},
   "outputs": [],
   "source": [
    "file_path = 'Output/rod2d25.txt'\n",
    "nr_bins = 30\n",
    "axis = 0"
   ]
  },
  {
   "cell_type": "code",
   "execution_count": 87,
   "metadata": {},
   "outputs": [],
   "source": [
    "file = open(file_path)\n",
    "lines = [line.rstrip('\\n') for line in file]"
   ]
  },
  {
   "cell_type": "code",
   "execution_count": 88,
   "metadata": {},
   "outputs": [],
   "source": [
    "N = int(lines[0].split(',')[0])\n",
    "Timesteps = int((len(lines)-1)/N)\n",
    "positions1 = list()\n",
    "positions2 = list()\n",
    "positions3 = list()\n",
    "\n",
    "posititionsVec = list()\n",
    "\n",
    "S1 = list()\n",
    "S2 = list()\n",
    "S3 = list()\n",
    "\n",
    "T = list()\n",
    "for t in range(0, Timesteps):\n",
    "    \n",
    "    centerPosition1 = list()\n",
    "    centerPosition2 = list()\n",
    "    centerPosition3 = list()\n",
    "    centerVec = list()\n",
    "\n",
    "    for i in range(0, N):\n",
    "        \n",
    "        #FIND POSITION\n",
    "        line = lines[2 + (N+1)*t +i]\n",
    "        line = line.replace('(','')\n",
    "        line = line.replace(')','')\n",
    "        elements = line.split(',')\n",
    "        centerPosition1.append(float(elements[0]))\n",
    "        centerPosition2.append(float(elements[1]))\n",
    "        centerPosition3.append(float(elements[2]))\n",
    "        centerVec.append(np.array([float(elements[0]),float(elements[1]),float(elements[2])]))\n",
    "        \n",
    "    #FIND S\n",
    "    line = lines[1 + (N+1)*t]\n",
    "    #line = line.replace('(','')\n",
    "    #line = line.replace(')','')\n",
    "    elements = line.split(',')\n",
    "    S1.append(float(elements[4]))\n",
    "    S2.append(float(elements[5]))\n",
    "    S3.append(float(elements[6]))\n",
    "    T.append(int(elements[3]))\n",
    "        \n",
    "    positions1.append(centerPosition1);\n",
    "    positions2.append(centerPosition2);\n",
    "    positions3.append(centerPosition3);\n",
    "    posititionsVec.append(centerVec)\n",
    "\n"
   ]
  },
  {
   "cell_type": "code",
   "execution_count": 89,
   "metadata": {},
   "outputs": [],
   "source": [
    "#for t in range(0,Timesteps):\n",
    "#    n, bins, patches = plt.hist(positions[t],nr_bins, density=False)\n",
    "#    plt.show()"
   ]
  },
  {
   "cell_type": "code",
   "execution_count": 90,
   "metadata": {},
   "outputs": [
    {
     "data": {
      "application/vnd.jupyter.widget-view+json": {
       "model_id": "d643dec974fa4044ad58e871376e51eb",
       "version_major": 2,
       "version_minor": 0
      },
      "text/plain": [
       "interactive(children=(IntSlider(value=0, description='t', max=25), Output()), _dom_classes=('widget-interact',…"
      ]
     },
     "metadata": {},
     "output_type": "display_data"
    }
   ],
   "source": [
    "def f(t=0):\n",
    "    n, bins, patches = plt.hist(positions1[t],nr_bins, density=False)\n",
    "    plt.xlabel('Position Of Center')\n",
    "    plt.ylabel('Number Of HPBs')\n",
    "    plt.show()\n",
    "    \n",
    "    n, bins, patches = plt.hist(positions2[t],nr_bins, density=False)\n",
    "    plt.xlabel('Position Of Center')\n",
    "    plt.ylabel('Number Of HPBs')\n",
    "    plt.show()\n",
    "    \n",
    "    n, bins, patches = plt.hist(positions3[t],nr_bins, density=False)\n",
    "    plt.xlabel('Position Of Center')\n",
    "    plt.ylabel('Number Of HPBs')\n",
    "    plt.show()\n",
    "    \n",
    "interactive_plot = interactive(f, t=(0, Timesteps-1))\n",
    "interactive_plot"
   ]
  },
  {
   "cell_type": "code",
   "execution_count": 91,
   "metadata": {},
   "outputs": [
    {
     "name": "stdout",
     "output_type": "stream",
     "text": [
      "[1. 0. 0.]\n"
     ]
    },
    {
     "data": {
      "application/vnd.jupyter.widget-view+json": {
       "model_id": "ea441e2f91a5474dbe8e486c2216876d",
       "version_major": 2,
       "version_minor": 0
      },
      "text/plain": [
       "interactive(children=(IntSlider(value=0, description='t', max=25), Output()), _dom_classes=('widget-interact',…"
      ]
     },
     "metadata": {},
     "output_type": "display_data"
    },
    {
     "data": {
      "text/plain": [
       "<Figure size 432x288 with 0 Axes>"
      ]
     },
     "metadata": {},
     "output_type": "display_data"
    }
   ],
   "source": [
    "single_axis = np.array([1,0,0])\n",
    "single_axis = single_axis/np.linalg.norm(single_axis)\n",
    "position_projections = list()\n",
    "for i in posititionsVec:\n",
    "    asd = list()\n",
    "    for j in i:\n",
    "        asd.append(np.dot(single_axis, j))\n",
    "    position_projections.append(asd)\n",
    "    \n",
    "\n",
    "print(single_axis)\n",
    "    \n",
    "    \n",
    "    \n",
    "plt.savefig('rotations1.pdf')\n",
    "    \n",
    "def f2(t=0):    \n",
    "    n, bins, patches = plt.hist(position_projections[t],nr_bins, density=False)\n",
    "    plt.xlabel('Position Of Center')\n",
    "    plt.ylabel('Number Of HPBs')\n",
    "    plt.show()\n",
    "    \n",
    "interactive_plot = interactive(f2, t=(0, Timesteps-1))\n",
    "interactive_plot"
   ]
  },
  {
   "cell_type": "code",
   "execution_count": 92,
   "metadata": {},
   "outputs": [
    {
     "data": {
      "image/png": "[encoded data removed]",
      "text/plain": [
       "<Figure size 432x288 with 1 Axes>"
      ]
     },
     "metadata": {},
     "output_type": "display_data"
    }
   ],
   "source": [
    "plt.plot(T, S1)\n",
    "plt.plot(T, S2)\n",
    "plt.plot(T, S3)\n",
    "\n",
    "\n",
    "plt.ylabel(\"$S_2$\")\n",
    "plt.xlabel(\"$T$\")\n",
    "\n",
    "plt.legend(['$S_{2,W}$', '$S_{2,L}$', '$S_{2,T}$'])\n",
    "\n",
    "\n",
    "plt.savefig('sphere_equilibrium_timesteps.pdf')"
   ]
  },
  {
   "cell_type": "code",
   "execution_count": 94,
   "metadata": {},
   "outputs": [
    {
     "data": {
      "image/png": "[encoded data removed]",
      "text/plain": [
       "<Figure size 432x288 with 1 Axes>"
      ]
     },
     "metadata": {},
     "output_type": "display_data"
    }
   ],
   "source": [
    "n, bins, patches = plt.hist(position_projections[t],nr_bins, density=False)\n",
    "plt.xlabel('Position Of Center')\n",
    "plt.ylabel('Number Of HPBs')\n",
    "plt.savefig('r2d25_projection.pdf')\n",
    "plt.show()\n"
   ]
  },
  {
   "cell_type": "code",
   "execution_count": null,
   "metadata": {},
   "outputs": [],
   "source": []
  }
 ],
 "metadata": {
  "kernelspec": {
   "display_name": "Python 3",
   "language": "python",
   "name": "python3"
  },
  "language_info": {
   "codemirror_mode": {
    "name": "ipython",
    "version": 3
   },
   "file_extension": ".py",
   "mimetype": "text/x-python",
   "name": "python",
   "nbconvert_exporter": "python",
   "pygments_lexer": "ipython3",
   "version": "3.6.5"
  }
 },
 "nbformat": 4,
 "nbformat_minor": 2
}
