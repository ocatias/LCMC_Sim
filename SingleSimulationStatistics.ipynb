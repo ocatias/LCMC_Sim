{
 "cells": [
  {
   "cell_type": "code",
   "execution_count": 22,
   "metadata": {},
   "outputs": [],
   "source": [
    "import matplotlib.pyplot as plt\n",
    "import numpy as np\n",
    "from ipywidgets import interactive"
   ]
  },
  {
   "cell_type": "code",
   "execution_count": 23,
   "metadata": {},
   "outputs": [],
   "source": [
    "file_path = 'Output/lyingN200.txt'\n",
    "nr_bins = 150\n",
    "axis = 2"
   ]
  },
  {
   "cell_type": "code",
   "execution_count": 24,
   "metadata": {},
   "outputs": [],
   "source": [
    "file = open(file_path)\n",
    "lines = [line.rstrip('\\n') for line in file]"
   ]
  },
  {
   "cell_type": "code",
   "execution_count": 25,
   "metadata": {},
   "outputs": [],
   "source": [
    "N = int(lines[0].split(',')[0])\n",
    "Timesteps = int((len(lines)-1)/N)\n",
    "positions = list()\n",
    "S1 = list()\n",
    "S2 = list()\n",
    "S3 = list()\n",
    "\n",
    "T = list()\n",
    "for t in range(0, Timesteps):\n",
    "    \n",
    "    onePosition = list()\n",
    "    for i in range(0, N):\n",
    "        \n",
    "        #FIND POSITION\n",
    "        line = lines[2 + (N+1)*t +i]\n",
    "        line = line.replace('(','')\n",
    "        line = line.replace(')','')\n",
    "        elements = line.split(',')\n",
    "        onePosition.append(float(elements[axis]))\n",
    "        \n",
    "    #FIND S\n",
    "    line = lines[1 + (N+1)*t]\n",
    "    #line = line.replace('(','')\n",
    "    #line = line.replace(')','')\n",
    "    elements = line.split(',')\n",
    "    S1.append(float(elements[4]))\n",
    "    S2.append(float(elements[5]))\n",
    "    S3.append(float(elements[6]))\n",
    "    T.append(int(elements[3]))\n",
    "        \n",
    "    positions.append(onePosition);\n",
    "    "
   ]
  },
  {
   "cell_type": "code",
   "execution_count": 26,
   "metadata": {},
   "outputs": [],
   "source": [
    "#for t in range(0,Timesteps):\n",
    "#    n, bins, patches = plt.hist(positions[t],nr_bins, density=False)\n",
    "#    plt.show()"
   ]
  },
  {
   "cell_type": "code",
   "execution_count": 27,
   "metadata": {},
   "outputs": [
    {
     "data": {
      "application/vnd.jupyter.widget-view+json": {
       "model_id": "b082dc995778482e94a1c09d78127a54",
       "version_major": 2,
       "version_minor": 0
      },
      "text/plain": [
       "interactive(children=(IntSlider(value=0, description='t', max=3), Output()), _dom_classes=('widget-interact',)…"
      ]
     },
     "metadata": {},
     "output_type": "display_data"
    }
   ],
   "source": [
    "def f(t=0):\n",
    "    n, bins, patches = plt.hist(positions[t],nr_bins, density=False)\n",
    "    plt.xlabel('Position Of Center')\n",
    "    plt.ylabel('Number Of HPBs')\n",
    "    plt.show()\n",
    "    \n",
    "interactive_plot = interactive(f, t=(0, Timesteps-1))\n",
    "interactive_plot"
   ]
  },
  {
   "cell_type": "code",
   "execution_count": 28,
   "metadata": {},
   "outputs": [
    {
     "data": {
      "text/plain": [
       "Text(0,0.5,'Order Parameter S')"
      ]
     },
     "execution_count": 28,
     "metadata": {},
     "output_type": "execute_result"
    },
    {
     "data": {
      "image/png": "[encoded data removed]",
      "text/plain": [
       "<Figure size 432x288 with 1 Axes>"
      ]
     },
     "metadata": {},
     "output_type": "display_data"
    }
   ],
   "source": [
    "plt.plot(T, S1)\n",
    "plt.plot(T, S2)\n",
    "plt.plot(T, S3)\n",
    "\n",
    "plt.xlabel('Timesteps T')\n",
    "plt.ylabel('Order Parameter S')"
   ]
  },
  {
   "cell_type": "code",
   "execution_count": null,
   "metadata": {},
   "outputs": [],
   "source": []
  }
 ],
 "metadata": {
  "kernelspec": {
   "display_name": "Python 3",
   "language": "python",
   "name": "python3"
  },
  "language_info": {
   "codemirror_mode": {
    "name": "ipython",
    "version": 3
   },
   "file_extension": ".py",
   "mimetype": "text/x-python",
   "name": "python",
   "nbconvert_exporter": "python",
   "pygments_lexer": "ipython3",
   "version": "3.6.5"
  }
 },
 "nbformat": 4,
 "nbformat_minor": 2
}
